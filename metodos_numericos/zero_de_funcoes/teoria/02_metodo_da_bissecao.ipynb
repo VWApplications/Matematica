{
 "cells": [
  {
   "cell_type": "markdown",
   "metadata": {},
   "source": [
    "# Método da bisseção\n",
    "***"
   ]
  },
  {
   "cell_type": "markdown",
   "metadata": {},
   "source": [
    "Iniciamos a nossa discussão com o método da bisseção pois este se trata de uma versão mais sofisticada do raciocínio que fizemos anteriormente.\n",
    "\n",
    "* Começamos mudando ligeiramente o nosso problema.\n",
    "\n",
    "\n",
    "* Ao invés de encontrar o valor de x para o qual $f(x) = y_0$, passamos $y_0$ para o lado esquerdo da igualdade e buscamos o valor de $x$ para o qual $g(x) = f(x) - y_0 = 0$.\n",
    "\n",
    "\n",
    "* Em matemática este problema é conhecido como encontrar o zero de uma função.\n",
    "\n",
    "\n",
    "* É lógico que é trivial transformar um problema em que buscamos $x$ que produz um valor arbitrário (ex.: 42) em um problema de zero de funções. Utilizar o zero, no entanto, simplifica alguns cálculos."
   ]
  },
  {
   "cell_type": "markdown",
   "metadata": {},
   "source": [
    "***\n",
    "### Exemplos\n",
    "***"
   ]
  },
  {
   "cell_type": "markdown",
   "metadata": {},
   "source": [
    "Importa as bibliotecas"
   ]
  },
  {
   "cell_type": "code",
   "execution_count": 1,
   "metadata": {
    "collapsed": true
   },
   "outputs": [],
   "source": [
    "import numpy\n",
    "import matplotlib.pyplot as matplot\n",
    "%matplotlib inline"
   ]
  },
  {
   "cell_type": "markdown",
   "metadata": {},
   "source": [
    "***"
   ]
  },
  {
   "cell_type": "markdown",
   "metadata": {},
   "source": [
    "Definimos a nossa função $f(x) = x^2 + 2x + 1$ e o valor de $y_0$\n",
    "\n",
    "Queremos encontrar o valor de $x$ para o qual $f(x) = y_0$"
   ]
  },
  {
   "cell_type": "code",
   "execution_count": 2,
   "metadata": {
    "collapsed": true
   },
   "outputs": [],
   "source": [
    "def f(x):\n",
    "    return x*x + 2*x + 1\n",
    "\n",
    "y0 = 42"
   ]
  },
  {
   "cell_type": "markdown",
   "metadata": {},
   "source": [
    "***"
   ]
  },
  {
   "cell_type": "markdown",
   "metadata": {},
   "source": [
    "Cria uma sequência de números começando em $0$ e terminando em $10$ e inserir os resultados de $f(x)$ em y"
   ]
  },
  {
   "cell_type": "code",
   "execution_count": 3,
   "metadata": {
    "collapsed": true
   },
   "outputs": [],
   "source": [
    "x = numpy.linspace(0, 10)\n",
    "y = f(x)"
   ]
  },
  {
   "cell_type": "markdown",
   "metadata": {},
   "source": [
    "***"
   ]
  },
  {
   "cell_type": "markdown",
   "metadata": {},
   "source": [
    "Definimos $g(x)$, a função que queremos encontrar os zeros"
   ]
  },
  {
   "cell_type": "code",
   "execution_count": 4,
   "metadata": {
    "collapsed": true
   },
   "outputs": [],
   "source": [
    "def g(x):\n",
    "    return f(x) - y0"
   ]
  },
  {
   "cell_type": "markdown",
   "metadata": {},
   "source": [
    "***"
   ]
  },
  {
   "cell_type": "markdown",
   "metadata": {},
   "source": [
    "O método da bisseção, assim como o método de força bruta mostrado anteriormente, exige um intervalo de busca inicial. Este intervalo deve ser escolhido para conter o zero da função e deve conter um valor para o qual $g(x)$ seja positivo e outro valor para o qual $g(x)$ seja negativo. Chamamos estes valores de $x_a$ e $x_b$. Pois pelo **teorema de Bolzano** $f(a)\\times f(b) < 0$ então existe pelo menos uma raiz entre $a$ e $b$\n",
    "\n",
    "Nosso intervalo de busca inicial é entre $0$ e $10$. No método de força bruta, usamos entre $5$ e $6$. Vamos utilizar um intervalo maior só por segurança."
   ]
  },
  {
   "cell_type": "code",
   "execution_count": 5,
   "metadata": {
    "collapsed": true
   },
   "outputs": [],
   "source": [
    "x0 = 0\n",
    "x1 = 10"
   ]
  },
  {
   "cell_type": "markdown",
   "metadata": {},
   "source": [
    "***"
   ]
  },
  {
   "cell_type": "markdown",
   "metadata": {},
   "source": [
    "Verificamos os valores de $g(x)$ para descobrir quem é $x_a$ e $x_b$. No nosso caso sabemos que $x_a = x_0$ e $x_b = x_1$, mas caso a função seja decrescente no intervalo, esta relação se inverte."
   ]
  },
  {
   "cell_type": "code",
   "execution_count": 6,
   "metadata": {},
   "outputs": [
    {
     "name": "stdout",
     "output_type": "stream",
     "text": [
      "Função é crescente.\n",
      "g(x0) = -41\n",
      "g(x1) = 79\n"
     ]
    }
   ],
   "source": [
    "if g(x0) < g(x1):\n",
    "    print(\"Função é crescente.\")\n",
    "    # xa = Valores de x para que g(x) seja positivo\n",
    "    # xb = Valores de x para que g(x) seja negativo\n",
    "    xa = x0\n",
    "    xb = x1\n",
    "    ya = g(x0)\n",
    "    yb = g(x1)\n",
    "else:\n",
    "    print(\"Função é decrescente.\")\n",
    "    # xa = Valores de x para que g(x) seja positivo\n",
    "    # xb = Valores de x para que g(x) seja negativo\n",
    "    xa = x1\n",
    "    xb = x0\n",
    "    ya = g(x1)\n",
    "    yb = g(x0)\n",
    "    \n",
    "print(\"g(x0) =\", g(x0))\n",
    "print(\"g(x1) =\", g(x1))"
   ]
  },
  {
   "cell_type": "markdown",
   "metadata": {},
   "source": [
    "***"
   ]
  },
  {
   "cell_type": "markdown",
   "metadata": {},
   "source": [
    "Fazemos um gráfico dos resultados, vamos plotar o gráfico para cada valor de $x$ um respectivo valor de $y - y_0$ na qual $y_0$ é 42, isso irá permitir que o eixo $y$ fica um pouco acima do inicio do gráfico, além disso temos também uma linha horizontal na qual $y = 0$"
   ]
  },
  {
   "cell_type": "code",
   "execution_count": 7,
   "metadata": {},
   "outputs": [
    {
     "data": {
      "image/png": "[encoded data removed]",
      "text/plain": [
       "<matplotlib.figure.Figure at 0x7f28d3a85978>"
      ]
     },
     "metadata": {},
     "output_type": "display_data"
    }
   ],
   "source": [
    "matplot.plot(x, y - y0)\n",
    "matplot.plot(\n",
    "    [xa, xb], [0, 0],\n",
    "    color='black',\n",
    "    linestyle='-',\n",
    "    marker='o'\n",
    ")\n",
    "matplot.show()"
   ]
  },
  {
   "cell_type": "markdown",
   "metadata": {},
   "source": [
    "***"
   ]
  },
  {
   "cell_type": "markdown",
   "metadata": {},
   "source": [
    "O próximo passo consiste em avaliar o valor de g(x) no ponto central do intervalo e investigar qual será o novo intervalo"
   ]
  },
  {
   "cell_type": "code",
   "execution_count": 8,
   "metadata": {},
   "outputs": [
    {
     "name": "stdout",
     "output_type": "stream",
     "text": [
      "-6.0\n"
     ]
    }
   ],
   "source": [
    "x_average = (xa + xb) / 2\n",
    "g_average = g(x_average)\n",
    "print(g_average)"
   ]
  },
  {
   "cell_type": "markdown",
   "metadata": {},
   "source": [
    "***"
   ]
  },
  {
   "cell_type": "markdown",
   "metadata": {},
   "source": [
    "Vimos que o valor no ponto médio é igual à -6.0, e portanto negativo. Deste modo, sabemos que o zero de g(x) deve estar entre este valor e xb. Atualizamos nossas variáveis e mostramos o resultado em um gráfico."
   ]
  },
  {
   "cell_type": "code",
   "execution_count": 9,
   "metadata": {},
   "outputs": [
    {
     "data": {
      "image/png": "[encoded data removed]",
      "text/plain": [
       "<matplotlib.figure.Figure at 0x7f28d17d16a0>"
      ]
     },
     "metadata": {},
     "output_type": "display_data"
    }
   ],
   "source": [
    "xa = x_average\n",
    "ga = g_average\n",
    "\n",
    "matplot.plot(x, y - y0)\n",
    "matplot.plot([xa, xb], [0, 0], 'ko-')\n",
    "matplot.show()"
   ]
  },
  {
   "cell_type": "markdown",
   "metadata": {},
   "source": [
    "***"
   ]
  },
  {
   "cell_type": "markdown",
   "metadata": {},
   "source": [
    "Vemos que o intervalo reduziu pela metade. Agora repetimos outra vez o mesmo raciocínio."
   ]
  },
  {
   "cell_type": "code",
   "execution_count": 10,
   "metadata": {},
   "outputs": [
    {
     "name": "stdout",
     "output_type": "stream",
     "text": [
      "30.25\n"
     ]
    }
   ],
   "source": [
    "x_average = (xa + xb) / 2\n",
    "g_average = g(x_average)\n",
    "print(g_average)"
   ]
  },
  {
   "cell_type": "markdown",
   "metadata": {},
   "source": [
    "***"
   ]
  },
  {
   "cell_type": "markdown",
   "metadata": {},
   "source": [
    "Observe que desta vez o valor de g(x_average) ficou positivo. Isto significa que devemos substituir $x_b$ e não $x_a$. Novamente, o intervalo de valores aceitáveis para o zero da função reduziu pela metade."
   ]
  },
  {
   "cell_type": "code",
   "execution_count": 11,
   "metadata": {},
   "outputs": [
    {
     "data": {
      "image/png": "[encoded data removed]",
      "text/plain": [
       "<matplotlib.figure.Figure at 0x7f28d16c6c50>"
      ]
     },
     "metadata": {},
     "output_type": "display_data"
    }
   ],
   "source": [
    "xb = x_average\n",
    "yb = g_average\n",
    "\n",
    "matplot.plot(x, y - y0)\n",
    "matplot.plot([xa, xb], [0, 0], 'ko-')\n",
    "matplot.show()"
   ]
  },
  {
   "cell_type": "markdown",
   "metadata": {},
   "source": [
    "***\n",
    "### Justar tudo em um único passo\n",
    "***"
   ]
  },
  {
   "cell_type": "markdown",
   "metadata": {},
   "source": [
    "Agora juntamos o raciocínio realizado nas duas etapas anteriores em um único passo em que o computador decide automaticamente qual dos dois valores ($x_a$ ou $x_b$) deve ser atualizado:"
   ]
  },
  {
   "cell_type": "code",
   "execution_count": 20,
   "metadata": {},
   "outputs": [
    {
     "name": "stdout",
     "output_type": "stream",
     "text": [
      "Intervalo: 5.478515625 e 5.4833984375\n"
     ]
    },
    {
     "data": {
      "image/png": "[encoded data removed]",
      "text/plain": [
       "<matplotlib.figure.Figure at 0x7f28d12cc5f8>"
      ]
     },
     "metadata": {},
     "output_type": "display_data"
    }
   ],
   "source": [
    "x_average = (xa + xb) / 2\n",
    "g_average = g(x_average)\n",
    "\n",
    "if g_average <= 0:\n",
    "    xa = x_average\n",
    "    ya = g_average\n",
    "else:\n",
    "    xb = x_average\n",
    "    yb = g_average\n",
    "    \n",
    "print(\"Intervalo:\", xa, \"e\", xb)\n",
    "matplot.plot(x, y - y0)\n",
    "matplot.plot([xa, xb], [0, 0], 'ko-')\n",
    "matplot.grid(True)"
   ]
  },
  {
   "cell_type": "markdown",
   "metadata": {},
   "source": [
    "Observe que o intervalo aceitável diminui, mas sempre contêm o valor do zero da função. Podemos verificar isto executando várias vezes a célula acima.\n",
    "\n",
    "É lógico que quanto mais repetições realizarmos, melhor será a estimativa do intervalo da função. Cada repetição reduz o intervalo pela metade. Deste modo, após 10 repetições teríamos um intervalo $2^{10} = 1024$ vezes menor que o intervalo inicial. Nada mal!"
   ]
  },
  {
   "cell_type": "markdown",
   "metadata": {},
   "source": [
    "***"
   ]
  },
  {
   "cell_type": "markdown",
   "metadata": {},
   "source": [
    "Não queremos executar a célula acima várias vezes manualmente. Vamos então programar o computador para fazer isto automaticamente.\n",
    "\n",
    "Vemos que o valor de $x$ converge para $5.4807$... e o valor de $g(x)$ se aproxima de zero. vamos fazer o calculo acompanhando o valor do erro, para depois mostrarmos em um gráfico."
   ]
  },
  {
   "cell_type": "code",
   "execution_count": 21,
   "metadata": {},
   "outputs": [
    {
     "name": "stdout",
     "output_type": "stream",
     "text": [
      "Função é crescente.\n",
      " 0) centro: 5.000000, g(x): -6.000000\n",
      " 1) centro: 7.500000, g(x): 30.250000\n",
      " 2) centro: 6.250000, g(x): 10.562500\n",
      " 3) centro: 5.625000, g(x):  1.890625\n",
      " 4) centro: 5.312500, g(x): -2.152344\n",
      " 5) centro: 5.468750, g(x): -0.155273\n",
      " 6) centro: 5.546875, g(x):  0.861572\n",
      " 7) centro: 5.507812, g(x):  0.351624\n",
      " 8) centro: 5.488281, g(x):  0.097794\n",
      " 9) centro: 5.478516, g(x): -0.028835\n",
      "10) centro: 5.483398, g(x):  0.034455\n",
      "11) centro: 5.480957, g(x):  0.002804\n",
      "12) centro: 5.479736, g(x): -0.013017\n",
      "13) centro: 5.480347, g(x): -0.005107\n",
      "14) centro: 5.480652, g(x): -0.001152\n",
      "15) centro: 5.480804, g(x):  0.000826\n",
      "16) centro: 5.480728, g(x): -0.000163\n",
      "17) centro: 5.480766, g(x):  0.000332\n",
      "18) centro: 5.480747, g(x):  0.000085\n",
      "19) centro: 5.480738, g(x): -0.000039\n"
     ]
    },
    {
     "data": {
      "image/png": "[encoded data removed]",
      "text/plain": [
       "<matplotlib.figure.Figure at 0x7f28d130bf60>"
      ]
     },
     "metadata": {},
     "output_type": "display_data"
    }
   ],
   "source": [
    "# Reseta o intervalo inicial\n",
    "x0, x1 = 0, 10\n",
    "\n",
    "# Calcula xa/ya e xb/yb\n",
    "if g(x0) < g(x1):\n",
    "    print(\"Função é crescente.\")\n",
    "    xa, xb = x0, x1\n",
    "    ya, yb = g(x0), g(x1)\n",
    "else:\n",
    "    print(\"Função é decrescente.\")\n",
    "    xa, xb = x1, x0\n",
    "    ya, yb = g(x1), g(x0)\n",
    "    \n",
    "# Atualiza 20 vezes o intervalo\n",
    "g_result = []\n",
    "for i in range(20):\n",
    "    x_average = (xa + xb) / 2\n",
    "    g_average = g(x_average)\n",
    "    if g_average <= 0:\n",
    "        xa, ya = x_average, g_average\n",
    "    else:\n",
    "        xb, yb = x_average, g_average\n",
    "        \n",
    "    g_result.append(abs(g_average))\n",
    "        \n",
    "    print(\"%2d) centro: %.6f, g(x): %9.6f\" % (i, x_average, g_average))\n",
    "    \n",
    "matplot.plot(g_result)\n",
    "matplot.xlabel('Número de iterações')\n",
    "matplot.ylabel('|g(x)|')\n",
    "matplot.show()"
   ]
  },
  {
   "cell_type": "markdown",
   "metadata": {},
   "source": [
    "Percebe-se que o erro começou a tender a zero a partir da oitava iteração"
   ]
  },
  {
   "cell_type": "markdown",
   "metadata": {},
   "source": [
    "***\n",
    "### Critério de parada\n",
    "***"
   ]
  },
  {
   "cell_type": "markdown",
   "metadata": {},
   "source": [
    "Vimos no gráfico anterior que o erro claramente reduz com o número de iterações. Mas quantas iterações devemos realizar? A resposta é sempre \"depende\".\n",
    "\n",
    "O método da bisseção, assim como vários outros métodos numéricos atinge a resposta correta apenas após um número infinito de iterações. Se por um lado é impossível esperar estas infinitas iterações, por outro, raramente precisamos do valor \"completo\" da solução com todas suas infinitas casas decimais. Na prática precisamos apenas de um valor \"próximo o suficiente\" do correto e é lógico que o que é \"suficiente\" depende muito da aplicação.\n",
    "\n",
    "No método da bisseção escolhemos tipicamente dois critérios para definir o que é \"bom o suficiente\". Eles se traduzem em uma margem de tolerância para $y$ ou para $x$.\n",
    "\n",
    "* $|g(x)| < y_{tol}$\n",
    "* $|x_b - x_a| < x_{tol}$\n",
    "\n",
    "Tipicamente, paramos quando um dos dois critérios for atingido. É lógico que podemos também adotar apenas um dos dois critérios ou, se quisermos ser mais rigorosos, paramos apenas quando os dois critérios forem atingidos. O código abaixo implementa a bisseção com o critério de parada.\n",
    "\n",
    "No nosso caso colocarmos o critério de parada como $1 \\times 10^\\left(-6\\right)$"
   ]
  },
  {
   "cell_type": "code",
   "execution_count": 22,
   "metadata": {
    "collapsed": true
   },
   "outputs": [],
   "source": [
    "# Definir tolerâncias = 1x10^(-6)\n",
    "x_tolerance = 1e-6\n",
    "y_tolerance = 1e-6\n",
    "\n",
    "# Reseta o intervalo inicial\n",
    "x0, x1 = 0, 10\n",
    "\n",
    "# Calcula xa/ya e xb/yb\n",
    "if g(x0) < g(x1):\n",
    "    xa, xb = x0, x1\n",
    "    ya, yb = g(x0), g(x1)\n",
    "else:\n",
    "    xa, xb = x1, x0\n",
    "    ya, yb = g(x1), g(x0)\n",
    "    \n",
    "# Atualiza o intervalo até atingir o critério de parada\n",
    "iterations = 0\n",
    "while True:\n",
    "    iterations += 1\n",
    "    x_average = (xa + xb) / 2\n",
    "    g_average = g(x_average)\n",
    "    if g_average <= 0:\n",
    "        xa, ya = x_average, g_average\n",
    "    else:\n",
    "        xb, yb = x_average, g_average\n",
    "        \n",
    "    if abs(xb - xa) < x_tolerance or abs(g_average) < y_tolerance:\n",
    "        break"
   ]
  },
  {
   "cell_type": "markdown",
   "metadata": {},
   "source": [
    "***"
   ]
  },
  {
   "cell_type": "markdown",
   "metadata": {},
   "source": [
    "Verificamos o resultado"
   ]
  },
  {
   "cell_type": "code",
   "execution_count": 23,
   "metadata": {},
   "outputs": [
    {
     "name": "stdout",
     "output_type": "stream",
     "text": [
      "Número de iterações: 24\n",
      "xa = 5.4807407, xb = 5.4807413\n",
      "Meio do intervalo: 5.4807410\n",
      "g(x) no meio do intervalo: 0.0000034\n"
     ]
    }
   ],
   "source": [
    "x_average = (xa + xb) / 2\n",
    "print(\"Número de iterações: %s\" % iterations)\n",
    "print(\"xa = %.7f, xb = %.7f\" % (xa, xb))\n",
    "print(\"Meio do intervalo: %.7f\" % x_average)\n",
    "print(\"g(x) no meio do intervalo: %.7f\" % g(x_average))"
   ]
  },
  {
   "cell_type": "markdown",
   "metadata": {},
   "source": [
    "***\n",
    "### Criando uma função\n",
    "***"
   ]
  },
  {
   "cell_type": "markdown",
   "metadata": {},
   "source": [
    "Seria bom reutilizarmos a lógica do método da bisseção com qualquer função arbitrária, não? Isto é fácil fazer em Python. Vamos criar uma função que recebe uma funçao $g$ e um intervalo $x_0$, $x_1$ e a partir disto calcula o zero de $g(x)$ contido neste intervalo."
   ]
  },
  {
   "cell_type": "code",
   "execution_count": 24,
   "metadata": {
    "collapsed": true
   },
   "outputs": [],
   "source": [
    "def bissect(g, x0, x1, x_tolerance=1e-6, y_tolerance=1e-6):\n",
    "    \"\"\"\n",
    "    Calcula o zero de g(x) dentro do intervalo (x0, y0)\n",
    "    \n",
    "    Argumentos:\n",
    "    \n",
    "        g: um função de um única variável\n",
    "        x0, x1: intervalo inicial para a busca do zero de g(x)\n",
    "        x_tolerance: tolerância em x (retorna quando o intervalo for menor que x_tolerance)\n",
    "        y_tolerance: tolerância em y (retorna quando |g(x)| < y_tolerance)\n",
    "        \n",
    "    Retornos:\n",
    "    \n",
    "        Retorna o zero da função g(x) (valor de x em que g(x) = 0)\n",
    "    \"\"\"\n",
    "    \n",
    "    # Calcula xa/ya e xb/yb\n",
    "    # xa = Valores de x para que g(x) seja positivo -> g(xa) = ya\n",
    "    # xb = Valores de x para que g(x) seja negativo -> g(xb) = yb\n",
    "    if g(x0) < g(x1):\n",
    "        # Função é crescente\n",
    "        xa, xb = x0, x1\n",
    "        ya, yb = g(x0), g(x1)\n",
    "    else:\n",
    "        # Função é decrescente\n",
    "        xa, xb = x1, x0\n",
    "        ya, yb = g(x1), g(x0)\n",
    "        \n",
    "    # Atualiza o intervalo até atingir o critério de parada\n",
    "    iterations = 0\n",
    "    while True:\n",
    "        iterations += 1\n",
    "        x_average = (xa + xb) / 2\n",
    "        g_average = g(x_average)\n",
    "        \n",
    "        # Se o ponto médio de y (g_average) for negativo substituimos o xa/ya caso contrario xb/yb\n",
    "        # Deste modo, sabemos que o zero de g(x) deve estar entre os novos xa e xb.\n",
    "        if g_average < 0:\n",
    "            xa, ya = x_average, g_average\n",
    "        elif g_average > 0:\n",
    "            xb, yb = x_average, g_average\n",
    "        else:\n",
    "            return x_average\n",
    "        \n",
    "        # Critério de parada: |xb - xa| < tolerancia em x ou |g(x)| < tolerancia em y\n",
    "        if abs(xb - xa) < x_tolerance or abs(g_average) < y_tolerance:\n",
    "            break\n",
    "    \n",
    "    # Retorna o ponto em que g(x) é praticamente zero\n",
    "    if abs(ya) < abs(yb):\n",
    "        return xa\n",
    "    else:\n",
    "        return xb"
   ]
  },
  {
   "cell_type": "markdown",
   "metadata": {},
   "source": [
    "***"
   ]
  },
  {
   "cell_type": "markdown",
   "metadata": {},
   "source": [
    "Agora vamos usar a função"
   ]
  },
  {
   "cell_type": "markdown",
   "metadata": {},
   "source": [
    "***"
   ]
  },
  {
   "cell_type": "code",
   "execution_count": 25,
   "metadata": {},
   "outputs": [
    {
     "name": "stdout",
     "output_type": "stream",
     "text": [
      "x = 5.480740666389465\n"
     ]
    }
   ],
   "source": [
    "# Encontra o zero da função g(x)\n",
    "print(\"x =\", bissect(g, 0, 10))"
   ]
  },
  {
   "cell_type": "markdown",
   "metadata": {},
   "source": [
    "***"
   ]
  },
  {
   "cell_type": "code",
   "execution_count": 26,
   "metadata": {},
   "outputs": [
    {
     "name": "stdout",
     "output_type": "stream",
     "text": [
      "x = 1.5707969665527344\n"
     ]
    }
   ],
   "source": [
    "# Acha o zero da função cos(x) no intervalo de 0 a 4 (pi/2)\n",
    "print(\"x =\", bissect(numpy.cos, 0, 4))"
   ]
  },
  {
   "cell_type": "markdown",
   "metadata": {},
   "source": [
    "***"
   ]
  },
  {
   "cell_type": "code",
   "execution_count": 27,
   "metadata": {},
   "outputs": [
    {
     "name": "stdout",
     "output_type": "stream",
     "text": [
      "x = 1.0471973419189453\n"
     ]
    }
   ],
   "source": [
    "# Encontre o ponto onde cos(x) é igual a 0.5 no intervalo de 0 a 4\n",
    "def g2(x):\n",
    "    return numpy.cos(x) - 0.5\n",
    "\n",
    "print(\"x =\", bissect(g2, 0, 4))"
   ]
  },
  {
   "cell_type": "markdown",
   "metadata": {},
   "source": [
    "***"
   ]
  },
  {
   "cell_type": "code",
   "execution_count": 28,
   "metadata": {},
   "outputs": [
    {
     "name": "stdout",
     "output_type": "stream",
     "text": [
      "x = 0.7853984832763672\n"
     ]
    }
   ],
   "source": [
    "# Encontra o ponto onde cos(x) é igual a sin(x) no intervalo de 0 a 4\n",
    "# Sabemos que a resposta é pi/4\n",
    "def g3(x):\n",
    "    return numpy.cos(x) - numpy.sin(x)\n",
    "\n",
    "print(\"x =\", bissect(g3, 0, 4))"
   ]
  }
 ],
 "metadata": {
  "kernelspec": {
   "display_name": "Python 3",
   "language": "python",
   "name": "python3"
  },
  "language_info": {
   "codemirror_mode": {
    "name": "ipython",
    "version": 3
   },
   "file_extension": ".py",
   "mimetype": "text/x-python",
   "name": "python",
   "nbconvert_exporter": "python",
   "pygments_lexer": "ipython3",
   "version": "3.5.2"
  }
 },
 "nbformat": 4,
 "nbformat_minor": 2
}
