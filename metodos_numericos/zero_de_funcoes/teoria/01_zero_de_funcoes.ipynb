{
 "cells": [
  {
   "cell_type": "markdown",
   "metadata": {},
   "source": [
    "# Zero de funções\n",
    "***"
   ]
  },
  {
   "cell_type": "markdown",
   "metadata": {},
   "source": [
    "Neste notebook vamos aprender sobre alguns métodos para encontrar zeros de funções. Este é um problema clássico que aparece em diversas áreas: temos uma função $f(x)$ e queremos encontrar o valor de $x$ que faz com que a função $f$ possua um determinado valor $y$. Em alguns casos, é possível simplesmente isolar $x$ e obter a resposta. Em outros, $f(x)$ pode ser muito complicado e precisamos encontrar a resposta numericamente.\n",
    "\n",
    "Para entendermos um pouco melhor o nosso problema, vamos fazer um gráfico. Em Python, podemos utilizar as bibliotecas matplotlib e numpy. A primeira é uma biblioteca de gráficos propriamente dita enquanto a segunda é uma biblioteca de computação científica com vários recursos como vetores, matrizes, funções especiais, números aleatórios, etc."
   ]
  },
  {
   "cell_type": "markdown",
   "metadata": {},
   "source": [
    "***\n",
    "### Exemplos\n",
    "***"
   ]
  },
  {
   "cell_type": "markdown",
   "metadata": {},
   "source": [
    "Importar as bibliotecas e o código para rodar gráficos no notebook"
   ]
  },
  {
   "cell_type": "code",
   "execution_count": 1,
   "metadata": {
    "collapsed": true
   },
   "outputs": [],
   "source": [
    "import numpy\n",
    "import matplotlib.pyplot as matplot\n",
    "%matplotlib inline"
   ]
  },
  {
   "cell_type": "markdown",
   "metadata": {},
   "source": [
    "***"
   ]
  },
  {
   "cell_type": "markdown",
   "metadata": {},
   "source": [
    "Definimos a nossa função $x^2 + 2x + 1$ e o valor de $y_0$"
   ]
  },
  {
   "cell_type": "code",
   "execution_count": 2,
   "metadata": {
    "collapsed": true
   },
   "outputs": [],
   "source": [
    "def f(x):\n",
    "    return x*x + 2*x + 1\n",
    "\n",
    "y0 = 42"
   ]
  },
  {
   "cell_type": "markdown",
   "metadata": {},
   "source": [
    "***"
   ]
  },
  {
   "cell_type": "markdown",
   "metadata": {},
   "source": [
    "Queremos gerar uma sequência de valores começando em $0$ e terminando em $10$ igualmente espaçados para $x$ para calcularmos os respectivos $y$ gerando os pontos que aparecerão no gráfico."
   ]
  },
  {
   "cell_type": "code",
   "execution_count": 3,
   "metadata": {
    "collapsed": true
   },
   "outputs": [],
   "source": [
    "# Gera os pontos de 0 a 10\n",
    "x = numpy.linspace(0, 10)\n",
    "# Gera os resultados de f(x) através dos pontos\n",
    "y = f(x)"
   ]
  },
  {
   "cell_type": "markdown",
   "metadata": {},
   "source": [
    "***"
   ]
  },
  {
   "cell_type": "markdown",
   "metadata": {},
   "source": [
    "Vamos verificar os pontos gerados por linspace"
   ]
  },
  {
   "cell_type": "code",
   "execution_count": 4,
   "metadata": {},
   "outputs": [
    {
     "name": "stdout",
     "output_type": "stream",
     "text": [
      "[  0.           0.20408163   0.40816327   0.6122449    0.81632653\n",
      "   1.02040816   1.2244898    1.42857143   1.63265306   1.83673469\n",
      "   2.04081633   2.24489796   2.44897959   2.65306122   2.85714286\n",
      "   3.06122449   3.26530612   3.46938776   3.67346939   3.87755102\n",
      "   4.08163265   4.28571429   4.48979592   4.69387755   4.89795918\n",
      "   5.10204082   5.30612245   5.51020408   5.71428571   5.91836735\n",
      "   6.12244898   6.32653061   6.53061224   6.73469388   6.93877551\n",
      "   7.14285714   7.34693878   7.55102041   7.75510204   7.95918367\n",
      "   8.16326531   8.36734694   8.57142857   8.7755102    8.97959184\n",
      "   9.18367347   9.3877551    9.59183673   9.79591837  10.        ]\n"
     ]
    }
   ],
   "source": [
    "print(x)"
   ]
  },
  {
   "cell_type": "markdown",
   "metadata": {},
   "source": [
    "***"
   ]
  },
  {
   "cell_type": "markdown",
   "metadata": {},
   "source": [
    "Vamos verificar os resultados para cada $x$ gerado"
   ]
  },
  {
   "cell_type": "code",
   "execution_count": 5,
   "metadata": {},
   "outputs": [
    {
     "name": "stdout",
     "output_type": "stream",
     "text": [
      "[   1.            1.44981258    1.98292378    2.59933361    3.29904207\n",
      "    4.08204915    4.94835485    5.89795918    6.93086214    8.04706372\n",
      "    9.24656393   10.52936277   11.89546022   13.34485631   14.87755102\n",
      "   16.49354436   18.19283632   19.97542691   21.84131612   23.79050396\n",
      "   25.82299042   27.93877551   30.13785923   32.42024157   34.78592253\n",
      "   37.23490212   39.76718034   42.38275718   45.08163265   47.86380675\n",
      "   50.72927947   53.67805081   56.71012078   59.82548938   63.0241566\n",
      "   66.30612245   69.67138692   73.11995002   76.65181175   80.26697209\n",
      "   83.96543107   87.74718867   91.6122449    95.56059975   99.59225323\n",
      "  103.70720533  107.90545606  112.18700541  116.55185339  121.        ]\n"
     ]
    }
   ],
   "source": [
    "print(y)"
   ]
  },
  {
   "cell_type": "markdown",
   "metadata": {},
   "source": [
    "***"
   ]
  },
  {
   "cell_type": "markdown",
   "metadata": {},
   "source": [
    "Vamos criar o gráfico para os pontos de $x$ e $y$"
   ]
  },
  {
   "cell_type": "code",
   "execution_count": 6,
   "metadata": {},
   "outputs": [
    {
     "data": {
      "image/png": "[encoded data removed]",
      "text/plain": [
       "<matplotlib.figure.Figure at 0x7f5987118fd0>"
      ]
     },
     "metadata": {},
     "output_type": "display_data"
    }
   ],
   "source": [
    "matplot.plot(x, y)\n",
    "matplot.title(\"Busca do zero da função\")\n",
    "matplot.xlabel(\"Argumentos\")\n",
    "matplot.ylabel(\"valor de f(x)\")\n",
    "matplot.show()"
   ]
  },
  {
   "cell_type": "markdown",
   "metadata": {},
   "source": [
    "***"
   ]
  },
  {
   "cell_type": "markdown",
   "metadata": {},
   "source": [
    "Podemos facilmente desenhar várias linhas. Basta chamar a função $plot$ várias vezes. Queremos desenhar $f(x)$ com uma linha horizontal no valor $y_0$."
   ]
  },
  {
   "cell_type": "code",
   "execution_count": 7,
   "metadata": {},
   "outputs": [
    {
     "data": {
      "image/png": "[encoded data removed]",
      "text/plain": [
       "<matplotlib.figure.Figure at 0x7f5987118400>"
      ]
     },
     "metadata": {},
     "output_type": "display_data"
    }
   ],
   "source": [
    "matplot.plot(x, y, label='f(x)')\n",
    "matplot.plot([0, 10], [y0, y0], label='y0')\n",
    "matplot.title(\"Ponto de intersecção\")\n",
    "matplot.legend()\n",
    "matplot.show()"
   ]
  },
  {
   "cell_type": "markdown",
   "metadata": {},
   "source": [
    "É possível verificar visualmente que o valor de $x$ que faz com que $f(x) = y_0$ está entre 5 e 6."
   ]
  },
  {
   "cell_type": "markdown",
   "metadata": {},
   "source": [
    "***"
   ]
  },
  {
   "cell_type": "markdown",
   "metadata": {},
   "source": [
    "Um método pouco elegante é fazer uma busca por força bruta: percorremos vários valores no intervalo e tentamos encontrar aquele que a diferença  entre $f(x)$ e $y_0$ seja igual ou muito próxima de zero. Dividimos o intervalo em $25$ valores e buscamos qual $x$ produz o melhor resultado."
   ]
  },
  {
   "cell_type": "code",
   "execution_count": 8,
   "metadata": {},
   "outputs": [
    {
     "name": "stdout",
     "output_type": "stream",
     "text": [
      " 0) x = 5.00;  f(x) - y0 = -6.000\n",
      " 1) x = 5.04;  f(x) - y0 = -5.518\n",
      " 2) x = 5.08;  f(x) - y0 = -5.034\n",
      " 3) x = 5.12;  f(x) - y0 = -4.546\n",
      " 4) x = 5.16;  f(x) - y0 = -4.054\n",
      " 5) x = 5.20;  f(x) - y0 = -3.560\n",
      " 6) x = 5.24;  f(x) - y0 = -3.062\n",
      " 7) x = 5.28;  f(x) - y0 = -2.562\n",
      " 8) x = 5.32;  f(x) - y0 = -2.058\n",
      " 9) x = 5.36;  f(x) - y0 = -1.550\n",
      "10) x = 5.40;  f(x) - y0 = -1.040\n",
      "11) x = 5.44;  f(x) - y0 = -0.526\n",
      "12) x = 5.48;  f(x) - y0 = -0.010\n",
      "13) x = 5.52;  f(x) - y0 =  0.510\n",
      "14) x = 5.56;  f(x) - y0 =  1.034\n",
      "15) x = 5.60;  f(x) - y0 =  1.560\n",
      "16) x = 5.64;  f(x) - y0 =  2.090\n",
      "17) x = 5.68;  f(x) - y0 =  2.622\n",
      "18) x = 5.72;  f(x) - y0 =  3.158\n",
      "19) x = 5.76;  f(x) - y0 =  3.698\n",
      "20) x = 5.80;  f(x) - y0 =  4.240\n",
      "21) x = 5.84;  f(x) - y0 =  4.786\n",
      "22) x = 5.88;  f(x) - y0 =  5.334\n",
      "23) x = 5.92;  f(x) - y0 =  5.886\n",
      "24) x = 5.96;  f(x) - y0 =  6.442\n"
     ]
    }
   ],
   "source": [
    "# Percorrer 25 valores\n",
    "for i in range(25):\n",
    "    # Aumentar 0.4 do valor de x a cada iteração\n",
    "    x = 5 + i / 25\n",
    "    # Imprime o resultado\n",
    "    print(\"%2d) x = %.2f;  f(x) - y0 = %6.3f\" % (i, x, f(x) - y0))"
   ]
  },
  {
   "cell_type": "markdown",
   "metadata": {},
   "source": [
    "Podemos ver que o melhor resultado desta lista foi $x = 5.48$, onde $f(x)$ difere de $y_0$ por um fator de apenas $0.010$. É lógico que é possível melhorar este resultado. Uma abordagem seria repetir um passo similar ao anterior, mas agora em um intervalo próximo de $x=5.48$ (quem sabe entre $x=5.44$ e $5.52$). A partir daí encontraríamos uma estimativa mais refinada e poderíamos continuar até obter um resultado satisfatório.\n",
    "\n",
    "Este método de busca por força bruta, por mais que funcione, não parece muito elegante. De fato, este método é ruim sob vários aspectos. Primeiramente, exige um grande número de avaliações de $f(x)$. Isto pode ser irrelevante no nosso caso, mas existem situações em que a função $f(x)$ pode envolver cálculos extremamente complexos e um grande número de requisições para $f(x)$ significaria um programa lento. Além deste problema, o método exige uma escolha manual dos intervalos de início e fim em cada etapa. Isto é inaceitável e queremos métodos em que o computador consiga realizar todos os cálculos automaticamente."
   ]
  }
 ],
 "metadata": {
  "kernelspec": {
   "display_name": "Python 3",
   "language": "python",
   "name": "python3"
  },
  "language_info": {
   "codemirror_mode": {
    "name": "ipython",
    "version": 3
   },
   "file_extension": ".py",
   "mimetype": "text/x-python",
   "name": "python",
   "nbconvert_exporter": "python",
   "pygments_lexer": "ipython3",
   "version": "3.5.2"
  }
 },
 "nbformat": 4,
 "nbformat_minor": 2
}
